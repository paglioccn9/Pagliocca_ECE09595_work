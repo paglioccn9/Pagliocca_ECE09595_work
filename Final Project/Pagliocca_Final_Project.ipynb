{
  "nbformat": 4,
  "nbformat_minor": 0,
  "metadata": {
    "accelerator": "GPU",
    "kernelspec": {
      "display_name": "Python 3",
      "name": "python3"
    },
    "language_info": {
      "name": "python"
    },
    "colab": {
      "name": "Pagliocca_Final_Project.ipynb",
      "provenance": [],
      "toc_visible": true,
      "machine_shape": "hm"
    }
  },
  "cells": [
    {
      "cell_type": "code",
      "metadata": {
        "id": "4ZylbzHB-IQ-",
        "colab": {
          "base_uri": "https://localhost:8080/"
        },
        "outputId": "650c9750-2a10-44aa-efd0-e937a0abe9a5"
      },
      "source": [
        "!pip install d2l==0.15.1\n",
        "!pip install -U mxnet-cu101==1.7.0\n"
      ],
      "execution_count": 6,
      "outputs": [
        {
          "output_type": "stream",
          "text": [
            "Requirement already satisfied: d2l==0.15.1 in /usr/local/lib/python3.6/dist-packages (0.15.1)\n",
            "Requirement already satisfied: jupyter in /usr/local/lib/python3.6/dist-packages (from d2l==0.15.1) (1.0.0)\n",
            "Requirement already satisfied: pandas in /usr/local/lib/python3.6/dist-packages (from d2l==0.15.1) (1.1.5)\n",
            "Requirement already satisfied: numpy in /usr/local/lib/python3.6/dist-packages (from d2l==0.15.1) (1.18.5)\n",
            "Requirement already satisfied: matplotlib in /usr/local/lib/python3.6/dist-packages (from d2l==0.15.1) (3.2.2)\n",
            "Requirement already satisfied: qtconsole in /usr/local/lib/python3.6/dist-packages (from jupyter->d2l==0.15.1) (5.0.1)\n",
            "Requirement already satisfied: ipykernel in /usr/local/lib/python3.6/dist-packages (from jupyter->d2l==0.15.1) (4.10.1)\n",
            "Requirement already satisfied: nbconvert in /usr/local/lib/python3.6/dist-packages (from jupyter->d2l==0.15.1) (5.6.1)\n",
            "Requirement already satisfied: notebook in /usr/local/lib/python3.6/dist-packages (from jupyter->d2l==0.15.1) (5.3.1)\n",
            "Requirement already satisfied: ipywidgets in /usr/local/lib/python3.6/dist-packages (from jupyter->d2l==0.15.1) (7.5.1)\n",
            "Requirement already satisfied: jupyter-console in /usr/local/lib/python3.6/dist-packages (from jupyter->d2l==0.15.1) (5.2.0)\n",
            "Requirement already satisfied: python-dateutil>=2.7.3 in /usr/local/lib/python3.6/dist-packages (from pandas->d2l==0.15.1) (2.8.1)\n",
            "Requirement already satisfied: pytz>=2017.2 in /usr/local/lib/python3.6/dist-packages (from pandas->d2l==0.15.1) (2018.9)\n",
            "Requirement already satisfied: cycler>=0.10 in /usr/local/lib/python3.6/dist-packages (from matplotlib->d2l==0.15.1) (0.10.0)\n",
            "Requirement already satisfied: kiwisolver>=1.0.1 in /usr/local/lib/python3.6/dist-packages (from matplotlib->d2l==0.15.1) (1.3.1)\n",
            "Requirement already satisfied: pyparsing!=2.0.4,!=2.1.2,!=2.1.6,>=2.0.1 in /usr/local/lib/python3.6/dist-packages (from matplotlib->d2l==0.15.1) (2.4.7)\n",
            "Requirement already satisfied: jupyter-core in /usr/local/lib/python3.6/dist-packages (from qtconsole->jupyter->d2l==0.15.1) (4.7.0)\n",
            "Requirement already satisfied: pyzmq>=17.1 in /usr/local/lib/python3.6/dist-packages (from qtconsole->jupyter->d2l==0.15.1) (20.0.0)\n",
            "Requirement already satisfied: ipython-genutils in /usr/local/lib/python3.6/dist-packages (from qtconsole->jupyter->d2l==0.15.1) (0.2.0)\n",
            "Requirement already satisfied: qtpy in /usr/local/lib/python3.6/dist-packages (from qtconsole->jupyter->d2l==0.15.1) (1.9.0)\n",
            "Requirement already satisfied: traitlets in /usr/local/lib/python3.6/dist-packages (from qtconsole->jupyter->d2l==0.15.1) (4.3.3)\n",
            "Requirement already satisfied: pygments in /usr/local/lib/python3.6/dist-packages (from qtconsole->jupyter->d2l==0.15.1) (2.6.1)\n",
            "Requirement already satisfied: jupyter-client>=4.1 in /usr/local/lib/python3.6/dist-packages (from qtconsole->jupyter->d2l==0.15.1) (5.3.5)\n",
            "Requirement already satisfied: ipython>=4.0.0 in /usr/local/lib/python3.6/dist-packages (from ipykernel->jupyter->d2l==0.15.1) (5.5.0)\n",
            "Requirement already satisfied: tornado>=4.0 in /usr/local/lib/python3.6/dist-packages (from ipykernel->jupyter->d2l==0.15.1) (5.1.1)\n",
            "Requirement already satisfied: pandocfilters>=1.4.1 in /usr/local/lib/python3.6/dist-packages (from nbconvert->jupyter->d2l==0.15.1) (1.4.3)\n",
            "Requirement already satisfied: testpath in /usr/local/lib/python3.6/dist-packages (from nbconvert->jupyter->d2l==0.15.1) (0.4.4)\n",
            "Requirement already satisfied: entrypoints>=0.2.2 in /usr/local/lib/python3.6/dist-packages (from nbconvert->jupyter->d2l==0.15.1) (0.3)\n",
            "Requirement already satisfied: nbformat>=4.4 in /usr/local/lib/python3.6/dist-packages (from nbconvert->jupyter->d2l==0.15.1) (5.0.8)\n",
            "Requirement already satisfied: jinja2>=2.4 in /usr/local/lib/python3.6/dist-packages (from nbconvert->jupyter->d2l==0.15.1) (2.11.2)\n",
            "Requirement already satisfied: defusedxml in /usr/local/lib/python3.6/dist-packages (from nbconvert->jupyter->d2l==0.15.1) (0.6.0)\n",
            "Requirement already satisfied: mistune<2,>=0.8.1 in /usr/local/lib/python3.6/dist-packages (from nbconvert->jupyter->d2l==0.15.1) (0.8.4)\n",
            "Requirement already satisfied: bleach in /usr/local/lib/python3.6/dist-packages (from nbconvert->jupyter->d2l==0.15.1) (3.2.1)\n",
            "Requirement already satisfied: Send2Trash in /usr/local/lib/python3.6/dist-packages (from notebook->jupyter->d2l==0.15.1) (1.5.0)\n",
            "Requirement already satisfied: terminado>=0.8.1 in /usr/local/lib/python3.6/dist-packages (from notebook->jupyter->d2l==0.15.1) (0.9.1)\n",
            "Requirement already satisfied: widgetsnbextension~=3.5.0 in /usr/local/lib/python3.6/dist-packages (from ipywidgets->jupyter->d2l==0.15.1) (3.5.1)\n",
            "Requirement already satisfied: prompt-toolkit<2.0.0,>=1.0.0 in /usr/local/lib/python3.6/dist-packages (from jupyter-console->jupyter->d2l==0.15.1) (1.0.18)\n",
            "Requirement already satisfied: six>=1.5 in /usr/local/lib/python3.6/dist-packages (from python-dateutil>=2.7.3->pandas->d2l==0.15.1) (1.15.0)\n",
            "Requirement already satisfied: decorator in /usr/local/lib/python3.6/dist-packages (from traitlets->qtconsole->jupyter->d2l==0.15.1) (4.4.2)\n",
            "Requirement already satisfied: pickleshare in /usr/local/lib/python3.6/dist-packages (from ipython>=4.0.0->ipykernel->jupyter->d2l==0.15.1) (0.7.5)\n",
            "Requirement already satisfied: setuptools>=18.5 in /usr/local/lib/python3.6/dist-packages (from ipython>=4.0.0->ipykernel->jupyter->d2l==0.15.1) (50.3.2)\n",
            "Requirement already satisfied: simplegeneric>0.8 in /usr/local/lib/python3.6/dist-packages (from ipython>=4.0.0->ipykernel->jupyter->d2l==0.15.1) (0.8.1)\n",
            "Requirement already satisfied: pexpect; sys_platform != \"win32\" in /usr/local/lib/python3.6/dist-packages (from ipython>=4.0.0->ipykernel->jupyter->d2l==0.15.1) (4.8.0)\n",
            "Requirement already satisfied: jsonschema!=2.5.0,>=2.4 in /usr/local/lib/python3.6/dist-packages (from nbformat>=4.4->nbconvert->jupyter->d2l==0.15.1) (2.6.0)\n",
            "Requirement already satisfied: MarkupSafe>=0.23 in /usr/local/lib/python3.6/dist-packages (from jinja2>=2.4->nbconvert->jupyter->d2l==0.15.1) (1.1.1)\n",
            "Requirement already satisfied: packaging in /usr/local/lib/python3.6/dist-packages (from bleach->nbconvert->jupyter->d2l==0.15.1) (20.7)\n",
            "Requirement already satisfied: webencodings in /usr/local/lib/python3.6/dist-packages (from bleach->nbconvert->jupyter->d2l==0.15.1) (0.5.1)\n",
            "Requirement already satisfied: ptyprocess; os_name != \"nt\" in /usr/local/lib/python3.6/dist-packages (from terminado>=0.8.1->notebook->jupyter->d2l==0.15.1) (0.6.0)\n",
            "Requirement already satisfied: wcwidth in /usr/local/lib/python3.6/dist-packages (from prompt-toolkit<2.0.0,>=1.0.0->jupyter-console->jupyter->d2l==0.15.1) (0.2.5)\n",
            "Requirement already up-to-date: mxnet-cu101==1.7.0 in /usr/local/lib/python3.6/dist-packages (1.7.0)\n",
            "Requirement already satisfied, skipping upgrade: requests<3,>=2.20.0 in /usr/local/lib/python3.6/dist-packages (from mxnet-cu101==1.7.0) (2.23.0)\n",
            "Requirement already satisfied, skipping upgrade: numpy<2.0.0,>1.16.0 in /usr/local/lib/python3.6/dist-packages (from mxnet-cu101==1.7.0) (1.18.5)\n",
            "Requirement already satisfied, skipping upgrade: graphviz<0.9.0,>=0.8.1 in /usr/local/lib/python3.6/dist-packages (from mxnet-cu101==1.7.0) (0.8.4)\n",
            "Requirement already satisfied, skipping upgrade: certifi>=2017.4.17 in /usr/local/lib/python3.6/dist-packages (from requests<3,>=2.20.0->mxnet-cu101==1.7.0) (2020.12.5)\n",
            "Requirement already satisfied, skipping upgrade: idna<3,>=2.5 in /usr/local/lib/python3.6/dist-packages (from requests<3,>=2.20.0->mxnet-cu101==1.7.0) (2.10)\n",
            "Requirement already satisfied, skipping upgrade: urllib3!=1.25.0,!=1.25.1,<1.26,>=1.21.1 in /usr/local/lib/python3.6/dist-packages (from requests<3,>=2.20.0->mxnet-cu101==1.7.0) (1.24.3)\n",
            "Requirement already satisfied, skipping upgrade: chardet<4,>=3.0.2 in /usr/local/lib/python3.6/dist-packages (from requests<3,>=2.20.0->mxnet-cu101==1.7.0) (3.0.4)\n"
          ],
          "name": "stdout"
        }
      ]
    },
    {
      "cell_type": "code",
      "metadata": {
        "attributes": {
          "classes": [],
          "id": "",
          "n": "1"
        },
        "origin_pos": 1,
        "tab": [
          "mxnet"
        ],
        "id": "ReHeZ8Vc-IQ-",
        "colab": {
          "base_uri": "https://localhost:8080/"
        },
        "outputId": "027cbdf2-049e-4877-fb18-3616a83ba5eb"
      },
      "source": [
        "%matplotlib inline\n",
        "from d2l import mxnet as d2l\n",
        "from mxnet import autograd, gluon, image, init, np, npx\n",
        "from mxnet.gluon import nn\n",
        "\n",
        "npx.set_np()\n",
        "\n",
        "def cls_predictor(num_anchors, num_classes):\n",
        "    return nn.Conv2D(num_anchors * (num_classes + 1), kernel_size=3,\n",
        "                     padding=1)\n",
        "def bbox_predictor(num_anchors):\n",
        "    return nn.Conv2D(num_anchors * 4, kernel_size=3, padding=1)\n",
        "def forward(x, block):\n",
        "    block.initialize()\n",
        "    return block(x)\n",
        "\n",
        "Y1 = forward(np.zeros((2, 8, 20, 20)), cls_predictor(5, 10))\n",
        "Y2 = forward(np.zeros((2, 16, 10, 10)), cls_predictor(3, 10))\n",
        "\n",
        "def flatten_pred(pred):\n",
        "    return npx.batch_flatten(pred.transpose(0, 2, 3, 1))\n",
        "\n",
        "def concat_preds(preds):\n",
        "    return np.concatenate([flatten_pred(p) for p in preds], axis=1)\n",
        "def down_sample_blk(num_channels):\n",
        "    blk = nn.Sequential()\n",
        "    for _ in range(2):\n",
        "        blk.add(nn.Conv2D(num_channels, kernel_size=3, padding=1),\n",
        "                nn.BatchNorm(in_channels=num_channels),\n",
        "                nn.Activation('relu'))\n",
        "    blk.add(nn.MaxPool2D(2))\n",
        "    return blk\n",
        "\n",
        "forward(np.zeros((2, 3, 20, 20)), down_sample_blk(10)).shape"
      ],
      "execution_count": 7,
      "outputs": [
        {
          "output_type": "execute_result",
          "data": {
            "text/plain": [
              "(2, 10, 10, 10)"
            ]
          },
          "metadata": {
            "tags": []
          },
          "execution_count": 7
        }
      ]
    },
    {
      "cell_type": "code",
      "metadata": {
        "colab": {
          "base_uri": "https://localhost:8080/"
        },
        "id": "5d2CTLCaXgOH",
        "outputId": "98a4d48b-5476-4e69-ec99-8e4b93dd7e51"
      },
      "source": [
        "#AlexNet Variant\r\n",
        "\r\n",
        "def base_net():\r\n",
        "    blk = nn.Sequential()\r\n",
        "    \r\n",
        "    for num_filters in [16, 32, 64]:\r\n",
        "        blk.add(down_sample_blk(num_filters))\r\n",
        "    \r\n",
        "    return blk\r\n",
        "    blk.add(nn.Conv2D(96, kernel_size=11, strides=4, activation='relu'),\r\n",
        "      nn.MaxPool2D(pool_size=3, strides=2),\r\n",
        "      \r\n",
        "      nn.Conv2D(256, kernel_size=5, padding=2, activation='relu'),\r\n",
        "      nn.MaxPool2D(pool_size=3, strides=2), \r\n",
        "      nn.Conv2D(384, kernel_size=3, padding=1, activation='relu'),\r\n",
        "      nn.Conv2D(384, kernel_size=3, padding=1, activation='relu'),\r\n",
        "      nn.Conv2D(256, kernel_size=3, padding=1, activation='relu'),\r\n",
        "      nn.MaxPool2D(pool_size=3, strides=2), \r\n",
        "      nn.Dense(4096, activation='relu'), nn.Dropout(0.5),\r\n",
        "      nn.Dense(4096, activation='relu'), nn.Dropout(0.5),\r\n",
        "      nn.Dense(10))\r\n",
        "\r\n",
        "forward(np.zeros((2, 3, 256, 256)), base_net()).shape"
      ],
      "execution_count": null,
      "outputs": [
        {
          "output_type": "execute_result",
          "data": {
            "text/plain": [
              "(2, 64, 32, 32)"
            ]
          },
          "metadata": {
            "tags": []
          },
          "execution_count": 10
        }
      ]
    },
    {
      "cell_type": "code",
      "metadata": {
        "colab": {
          "base_uri": "https://localhost:8080/"
        },
        "id": "wPS6_GOLD17F",
        "outputId": "6ae88e2e-067c-40ea-dc96-30c50d646a0f"
      },
      "source": [
        "#VGG-11\r\n",
        "def base_net():\r\n",
        "    blk = nn.Sequential()\r\n",
        "    for num_filters in [16, 32, 64]:\r\n",
        "        blk.add(down_sample_blk(num_filters))\r\n",
        "    return blk\r\n",
        "    blk.add(nn.Conv2D(64, kernel_size=11, strides=4, activation='relu'),\r\n",
        "      nn.MaxPool2D(pool_size=3, strides=2),\r\n",
        "      \r\n",
        "      nn.Conv2D(128, kernel_size=5, padding=2, activation='relu'),\r\n",
        "      nn.MaxPool2D(pool_size=3, strides=2), \r\n",
        "      nn.Conv2D(256, kernel_size=3, padding=1, activation='relu'),\r\n",
        "      nn.Conv2D(256, kernel_size=3, padding=1, activation='relu'),\r\n",
        "      nn.MaxPool2D(pool_size=3, strides=2), \r\n",
        "      nn.Conv2D(512, kernel_size=3, padding=1, activation='relu'),\r\n",
        "      nn.Conv2D(512, kernel_size=3, padding=1, activation='relu'),\r\n",
        "      nn.MaxPool2D(pool_size=3, strides=2), \r\n",
        "      nn.Conv2D(512, kernel_size=3, padding=1, activation='relu'),\r\n",
        "      nn.Conv2D(512, kernel_size=3, padding=1, activation='relu'),\r\n",
        "      nn.MaxPool2D(pool_size=3, strides=2), \r\n",
        "      nn.MaxPool2D(pool_size=3, strides=2), \r\n",
        "      nn.Dense(4096, activation='relu'), nn.Dropout(0.5),\r\n",
        "      nn.Dense(4096, activation='relu'), nn.Dropout(0.5),\r\n",
        "      nn.Dense(10))\r\n",
        "\r\n",
        "forward(np.zeros((2, 3, 256, 256)), base_net()).shape"
      ],
      "execution_count": null,
      "outputs": [
        {
          "output_type": "execute_result",
          "data": {
            "text/plain": [
              "(2, 64, 32, 32)"
            ]
          },
          "metadata": {
            "tags": []
          },
          "execution_count": 20
        }
      ]
    },
    {
      "cell_type": "code",
      "metadata": {
        "colab": {
          "base_uri": "https://localhost:8080/"
        },
        "id": "EtavJzEvkkUf",
        "outputId": "b3b33f7b-b234-4ecf-ccf0-be20d8ee2317"
      },
      "source": [
        "#NIN\r\n",
        "def nin_block(num_channels, kernel_size, strides, padding):\r\n",
        "    net = nn.Sequential()\r\n",
        "    net.add(nn.Conv2D(num_channels, kernel_size, strides, padding,\r\n",
        "                      activation='relu'),\r\n",
        "            nn.Conv2D(num_channels, kernel_size=1, activation='relu'),\r\n",
        "            nn.Conv2D(num_channels, kernel_size=1, activation='relu'))\r\n",
        "    return net\r\n",
        "def base_net():\r\n",
        "    blk = nn.Sequential()\r\n",
        "    for num_filters in [16, 32, 64]:\r\n",
        "        blk.add(down_sample_blk(num_filters))\r\n",
        "    return blk\r\n",
        "blk = nn.Sequential()\r\n",
        "blk.add(nin_block(96, kernel_size=11, strides=4, padding=0),\r\n",
        "        nn.MaxPool2D(pool_size=3, strides=2),\r\n",
        "        nin_block(256, kernel_size=5, strides=1, padding=2),\r\n",
        "        nn.MaxPool2D(pool_size=3, strides=2),\r\n",
        "        nin_block(384, kernel_size=3, strides=1, padding=1),\r\n",
        "        nn.MaxPool2D(pool_size=3, strides=2),\r\n",
        "        nn.Dropout(0.5),\r\n",
        "        nin_block(10, kernel_size=3, strides=1, padding=1),\r\n",
        "        nn.GlobalAvgPool2D(),\r\n",
        "        nn.Flatten())\r\n",
        "forward(np.zeros((2, 3, 256, 256)), base_net()).shape"
      ],
      "execution_count": null,
      "outputs": [
        {
          "output_type": "execute_result",
          "data": {
            "text/plain": [
              "(2, 64, 32, 32)"
            ]
          },
          "metadata": {
            "tags": []
          },
          "execution_count": 24
        }
      ]
    },
    {
      "cell_type": "code",
      "metadata": {
        "colab": {
          "base_uri": "https://localhost:8080/"
        },
        "id": "jSzyNwm6k-xx",
        "outputId": "e02d9953-bea7-4a1b-b59d-f689ffaef7df"
      },
      "source": [
        "#GoogleNet\r\n",
        "class Inception(nn.Block):\r\n",
        "    def __init__(self, c1, c2, c3, c4, **kwargs):\r\n",
        "        super(Inception, self).__init__(**kwargs)\r\n",
        "        self.p1_1 = nn.Conv2D(c1, kernel_size=1, activation='relu')\r\n",
        "        self.p2_1 = nn.Conv2D(c2[0], kernel_size=1, activation='relu')\r\n",
        "        self.p2_2 = nn.Conv2D(c2[1], kernel_size=3, padding=1,\r\n",
        "                              activation='relu')\r\n",
        "        self.p3_1 = nn.Conv2D(c3[0], kernel_size=1, activation='relu')\r\n",
        "        self.p3_2 = nn.Conv2D(c3[1], kernel_size=5, padding=2,\r\n",
        "                              activation='relu')\r\n",
        "        self.p4_1 = nn.MaxPool2D(pool_size=3, strides=1, padding=1)\r\n",
        "        self.p4_2 = nn.Conv2D(c4, kernel_size=1, activation='relu')\r\n",
        "\r\n",
        "    def forward(self, x):\r\n",
        "        p1 = self.p1_1(x)\r\n",
        "        p2 = self.p2_2(self.p2_1(x))\r\n",
        "        p3 = self.p3_2(self.p3_1(x))\r\n",
        "        p4 = self.p4_2(self.p4_1(x))\r\n",
        "        return np.concatenate((p1, p2, p3, p4), axis=1)\r\n",
        "\r\n",
        "def base_net():\r\n",
        "  blk = nn.Sequential()\r\n",
        "  for num_filters in [16, 32, 64]:\r\n",
        "      blk.add(down_sample_blk(num_filters))\r\n",
        "  return blk\r\n",
        "  b1 = nn.Sequential()\r\n",
        "  b1.add(nn.Conv2D(64, kernel_size=7, strides=2, padding=3, activation='relu'),\r\n",
        "       nn.MaxPool2D(pool_size=3, strides=2, padding=1))\r\n",
        "  \r\n",
        "  b2 = nn.Sequential()\r\n",
        "  b2.add(nn.Conv2D(64, kernel_size=1, activation='relu'),\r\n",
        "       nn.Conv2D(192, kernel_size=3, padding=1, activation='relu'),\r\n",
        "       nn.MaxPool2D(pool_size=3, strides=2, padding=1))\r\n",
        "  \r\n",
        "  b3 = nn.Sequential()\r\n",
        "  b3.add(Inception(64, (96, 128), (16, 32), 32),\r\n",
        "       Inception(128, (128, 192), (32, 96), 64),\r\n",
        "       nn.MaxPool2D(pool_size=3, strides=2, padding=1))\r\n",
        "  \r\n",
        "  b4 = nn.Sequential()\r\n",
        "  b4.add(Inception(192, (96, 208), (16, 48), 64),\r\n",
        "       Inception(160, (112, 224), (24, 64), 64),\r\n",
        "       Inception(128, (128, 256), (24, 64), 64),\r\n",
        "       Inception(112, (144, 288), (32, 64), 64),\r\n",
        "       Inception(256, (160, 320), (32, 128), 128),\r\n",
        "       nn.MaxPool2D(pool_size=3, strides=2, padding=1))\r\n",
        "  \r\n",
        "  b5 = nn.Sequential()\r\n",
        "  b5.add(Inception(256, (160, 320), (32, 128), 128),\r\n",
        "       Inception(384, (192, 384), (48, 128), 128),\r\n",
        "       nn.GlobalAvgPool2D())\r\n",
        "\r\n",
        "  blk = nn.Sequential()\r\n",
        "  blk.add(b1, b2, b3, b4, b5, nn.Dense(10))\r\n",
        "\r\n",
        "  return blk\r\n",
        "\r\n",
        "forward(np.zeros((2, 3, 256, 256)), base_net()).shape"
      ],
      "execution_count": null,
      "outputs": [
        {
          "output_type": "execute_result",
          "data": {
            "text/plain": [
              "(2, 64, 32, 32)"
            ]
          },
          "metadata": {
            "tags": []
          },
          "execution_count": 32
        }
      ]
    },
    {
      "cell_type": "code",
      "metadata": {
        "colab": {
          "base_uri": "https://localhost:8080/"
        },
        "id": "IdseYLmcXZD8",
        "outputId": "733a61d7-9efe-48ee-8027-bee99dc9dc86"
      },
      "source": [
        "#ResNet\r\n",
        "class Residual(nn.Block):  \r\n",
        "    def __init__(self, num_channels, use_1x1conv=False, strides=1, **kwargs):\r\n",
        "        super().__init__(**kwargs)\r\n",
        "        self.conv1 = nn.Conv2D(num_channels, kernel_size=3, padding=1,\r\n",
        "                               strides=strides)\r\n",
        "        self.conv2 = nn.Conv2D(num_channels, kernel_size=3, padding=1)\r\n",
        "        if use_1x1conv:\r\n",
        "            self.conv3 = nn.Conv2D(num_channels, kernel_size=1,\r\n",
        "                                   strides=strides)\r\n",
        "        else:\r\n",
        "            self.conv3 = None\r\n",
        "        self.bn1 = nn.BatchNorm()\r\n",
        "        self.bn2 = nn.BatchNorm()\r\n",
        "\r\n",
        "    def forward(self, X):\r\n",
        "        Y = npx.relu(self.bn1(self.conv1(X)))\r\n",
        "        Y = self.bn2(self.conv2(Y))\r\n",
        "        if self.conv3:\r\n",
        "            X = self.conv3(X)\r\n",
        "        return npx.relu(Y + X)\r\n",
        "\r\n",
        "def base_net():\r\n",
        "  blk = nn.Sequential()\r\n",
        "  for num_filters in [16, 32, 64]:\r\n",
        "      blk.add(down_sample_blk(num_filters))\r\n",
        "  return blk\r\n",
        "blk = Residual(3)\r\n",
        "forward(np.zeros((2, 3, 256, 256)), base_net()).shape"
      ],
      "execution_count": 14,
      "outputs": [
        {
          "output_type": "execute_result",
          "data": {
            "text/plain": [
              "(2, 64, 32, 32)"
            ]
          },
          "metadata": {
            "tags": []
          },
          "execution_count": 14
        }
      ]
    },
    {
      "cell_type": "code",
      "metadata": {
        "colab": {
          "base_uri": "https://localhost:8080/"
        },
        "id": "uU35iq0ciHz6",
        "outputId": "e3e83d99-44b5-4f55-9980-63672c040e27"
      },
      "source": [
        "#DenseNet\r\n",
        "def conv_block(num_channels):\r\n",
        "    blk = nn.Sequential()\r\n",
        "    blk.add(nn.BatchNorm(),\r\n",
        "            nn.Activation('relu'),\r\n",
        "            nn.Conv2D(num_channels, kernel_size=3, padding=1))\r\n",
        "    return blk\r\n",
        "\r\n",
        "class DenseBlock(nn.Block):\r\n",
        "    def __init__(self, num_convs, num_channels, **kwargs):\r\n",
        "        super().__init__(**kwargs)\r\n",
        "        self.net = nn.Sequential()\r\n",
        "        for _ in range(num_convs):\r\n",
        "            self.net.add(conv_block(num_channels))\r\n",
        "\r\n",
        "    def forward(self, X):\r\n",
        "        for blk in self.net:\r\n",
        "            Y = blk(X)\r\n",
        "            X = np.concatenate((X, Y), axis=1)\r\n",
        "        return X\r\n",
        "def base_net():\r\n",
        "  blk = nn.Sequential()\r\n",
        "  for num_filters in [16, 32, 64]:\r\n",
        "      blk.add(down_sample_blk(num_filters))\r\n",
        "  return blk\r\n",
        "blk = DenseBlock(2, 10)\r\n",
        "forward(np.zeros((2, 3, 256, 256)), base_net()).shape"
      ],
      "execution_count": 20,
      "outputs": [
        {
          "output_type": "execute_result",
          "data": {
            "text/plain": [
              "(2, 64, 32, 32)"
            ]
          },
          "metadata": {
            "tags": []
          },
          "execution_count": 20
        }
      ]
    },
    {
      "cell_type": "code",
      "metadata": {
        "attributes": {
          "classes": [],
          "id": "",
          "n": "9"
        },
        "origin_pos": 17,
        "tab": [
          "mxnet"
        ],
        "id": "CT7v3pUd-IRA"
      },
      "source": [
        "def get_blk(i):\n",
        "    if i == 0:\n",
        "        blk = base_net()\n",
        "    elif i == 4:\n",
        "        blk = nn.GlobalMaxPool2D()\n",
        "    else:\n",
        "        blk = down_sample_blk(128)\n",
        "    return blk\n",
        "\n",
        "def blk_forward(X, blk, size, ratio, cls_predictor, bbox_predictor):\n",
        "    Y = blk(X)\n",
        "    anchors = npx.multibox_prior(Y, sizes=size, ratios=ratio)\n",
        "    cls_preds = cls_predictor(Y)\n",
        "    bbox_preds = bbox_predictor(Y)\n",
        "    return (Y, anchors, cls_preds, bbox_preds)\n",
        "\n",
        "sizes = [[0.2, 0.272], [0.37, 0.447], [0.54, 0.619], [0.71, 0.79],\n",
        "         [0.88, 0.961]]\n",
        "ratios = [[1, 2, 0.5]] * 5\n",
        "num_anchors = len(sizes[0]) + len(ratios[0]) - 1\n",
        "\n",
        "class TinySSD(nn.Block):\n",
        "    def __init__(self, num_classes, **kwargs):\n",
        "        super(TinySSD, self).__init__(**kwargs)\n",
        "        self.num_classes = num_classes\n",
        "        for i in range(5):\n",
        "            setattr(self, f'blk_{i}', get_blk(i))\n",
        "            setattr(self, f'cls_{i}', cls_predictor(num_anchors, num_classes))\n",
        "            setattr(self, f'bbox_{i}', bbox_predictor(num_anchors))\n",
        "\n",
        "    def forward(self, X):\n",
        "        anchors, cls_preds, bbox_preds = [None] * 5, [None] * 5, [None] * 5\n",
        "        for i in range(5):\n",
        "            X, anchors[i], cls_preds[i], bbox_preds[i] = blk_forward(\n",
        "                X, getattr(self, f'blk_{i}'), sizes[i], ratios[i],\n",
        "                getattr(self, f'cls_{i}'), getattr(self, f'bbox_{i}'))\n",
        "        anchors = np.concatenate(anchors, axis=1)\n",
        "        cls_preds = concat_preds(cls_preds)\n",
        "        cls_preds = cls_preds.reshape(\n",
        "            cls_preds.shape[0], -1, self.num_classes + 1)\n",
        "        bbox_preds = concat_preds(bbox_preds)\n",
        "        return anchors, cls_preds, bbox_preds\n",
        "\n",
        "net = TinySSD(num_classes=1)\n",
        "net.initialize()\n",
        "X = np.zeros((32, 3, 256, 256))\n",
        "anchors, cls_preds, bbox_preds = net(X)\n",
        "\n",
        "batch_size = 32\n",
        "train_iter, _ = d2l.load_data_bananas(batch_size)\n",
        "\n",
        "device, net = d2l.try_gpu(), TinySSD(num_classes=1)\n",
        "net.initialize(init=init.Xavier(), ctx=device)\n",
        "trainer = gluon.Trainer(net.collect_params(), 'adam',\n",
        "                        {'learning_rate': 0.2, 'wd': 5e-4})\n",
        "\n",
        "cls_loss = gluon.loss.SoftmaxCrossEntropyLoss()\n",
        "bbox_loss = gluon.loss.L1Loss()\n",
        "\n",
        "def calc_loss(cls_preds, cls_labels, bbox_preds, bbox_labels, bbox_masks):\n",
        "    cls = cls_loss(cls_preds, cls_labels)\n",
        "    bbox = bbox_loss(bbox_preds * bbox_masks, bbox_labels * bbox_masks)\n",
        "    return cls + bbox\n",
        "\n",
        "def cls_eval(cls_preds, cls_labels):\n",
        "    return float((cls_preds.argmax(axis=-1).astype(\n",
        "        cls_labels.dtype) == cls_labels).sum())\n",
        "\n",
        "def bbox_eval(bbox_preds, bbox_labels, bbox_masks):\n",
        "    return float((np.abs((bbox_labels - bbox_preds) * bbox_masks)).sum())\n",
        "\n"
      ],
      "execution_count": 21,
      "outputs": []
    },
    {
      "cell_type": "code",
      "metadata": {
        "attributes": {
          "classes": [],
          "id": "",
          "n": "29"
        },
        "origin_pos": 35,
        "tab": [
          "mxnet"
        ],
        "id": "zwmhiIf3-IRB",
        "colab": {
          "base_uri": "https://localhost:8080/",
          "height": 296
        },
        "outputId": "495e5a51-a85b-460c-85b2-e9b6194570ea"
      },
      "source": [
        "num_epochs, timer = 20, d2l.Timer()\n",
        "animator = d2l.Animator(xlabel='epoch', xlim=[1, num_epochs],\n",
        "                        legend=['class error', 'bbox mae'])\n",
        "for epoch in range(num_epochs):\n",
        "    metric = d2l.Accumulator(4)\n",
        "    train_iter.reset()  \n",
        "    for batch in train_iter:\n",
        "        timer.start()\n",
        "        X = batch.data[0].as_in_ctx(device)\n",
        "        Y = batch.label[0].as_in_ctx(device)\n",
        "        with autograd.record():\n",
        "            anchors, cls_preds, bbox_preds = net(X)\n",
        "            bbox_labels, bbox_masks, cls_labels = npx.multibox_target(\n",
        "                anchors, Y, cls_preds.transpose(0, 2, 1))\n",
        "            l = calc_loss(cls_preds, cls_labels, bbox_preds, bbox_labels,\n",
        "                          bbox_masks)\n",
        "        l.backward()\n",
        "        trainer.step(batch_size)\n",
        "        metric.add(cls_eval(cls_preds, cls_labels), cls_labels.size,\n",
        "                   bbox_eval(bbox_preds, bbox_labels, bbox_masks),\n",
        "                   bbox_labels.size)\n",
        "    cls_err, bbox_mae = 1-metric[0]/metric[1], metric[2]/metric[3]\n",
        "    animator.add(epoch+1, (cls_err, bbox_mae))\n",
        "print(f'class err {cls_err:.2e}, bbox mae {bbox_mae:.2e}')\n",
        "print(f'{train_iter.num_image/timer.stop():.1f} examples/sec on '\n",
        "      f'{str(device)}')"
      ],
      "execution_count": 23,
      "outputs": [
        {
          "output_type": "stream",
          "text": [
            "class err 6.48e-03, bbox mae 6.88e-03\n",
            "5547.7 examples/sec on gpu(0)\n"
          ],
          "name": "stdout"
        },
        {
          "output_type": "display_data",
          "data": {
            "text/plain": [
              "<Figure size 252x180 with 1 Axes>"
            ],
            "image/svg+xml": "<?xml version=\"1.0\" encoding=\"utf-8\" standalone=\"no\"?>\n<!DOCTYPE svg PUBLIC \"-//W3C//DTD SVG 1.1//EN\"\n  \"http://www.w3.org/Graphics/SVG/1.1/DTD/svg11.dtd\">\n<!-- Created with matplotlib (https://matplotlib.org/) -->\n<svg height=\"180.65625pt\" version=\"1.1\" viewBox=\"0 0 251.690625 180.65625\" width=\"251.690625pt\" xmlns=\"http://www.w3.org/2000/svg\" xmlns:xlink=\"http://www.w3.org/1999/xlink\">\n <defs>\n  <style type=\"text/css\">\n*{stroke-linecap:butt;stroke-linejoin:round;}\n  </style>\n </defs>\n <g id=\"figure_1\">\n  <g id=\"patch_1\">\n   <path d=\"M 0 180.65625 \nL 251.690625 180.65625 \nL 251.690625 0 \nL 0 0 \nz\n\" style=\"fill:none;\"/>\n  </g>\n  <g id=\"axes_1\">\n   <g id=\"patch_2\">\n    <path d=\"M 42.828125 143.1 \nL 238.128125 143.1 \nL 238.128125 7.2 \nL 42.828125 7.2 \nz\n\" style=\"fill:#ffffff;\"/>\n   </g>\n   <g id=\"matplotlib.axis_1\">\n    <g id=\"xtick_1\">\n     <g id=\"line2d_1\">\n      <path clip-path=\"url(#pa3f9ae5e1e)\" d=\"M 83.943914 143.1 \nL 83.943914 7.2 \n\" style=\"fill:none;stroke:#b0b0b0;stroke-linecap:square;stroke-width:0.8;\"/>\n     </g>\n     <g id=\"line2d_2\">\n      <defs>\n       <path d=\"M 0 0 \nL 0 3.5 \n\" id=\"mad7f4651c2\" style=\"stroke:#000000;stroke-width:0.8;\"/>\n      </defs>\n      <g>\n       <use style=\"stroke:#000000;stroke-width:0.8;\" x=\"83.943914\" xlink:href=\"#mad7f4651c2\" y=\"143.1\"/>\n      </g>\n     </g>\n     <g id=\"text_1\">\n      <!-- 5 -->\n      <defs>\n       <path d=\"M 10.796875 72.90625 \nL 49.515625 72.90625 \nL 49.515625 64.59375 \nL 19.828125 64.59375 \nL 19.828125 46.734375 \nQ 21.96875 47.46875 24.109375 47.828125 \nQ 26.265625 48.1875 28.421875 48.1875 \nQ 40.625 48.1875 47.75 41.5 \nQ 54.890625 34.8125 54.890625 23.390625 \nQ 54.890625 11.625 47.5625 5.09375 \nQ 40.234375 -1.421875 26.90625 -1.421875 \nQ 22.3125 -1.421875 17.546875 -0.640625 \nQ 12.796875 0.140625 7.71875 1.703125 \nL 7.71875 11.625 \nQ 12.109375 9.234375 16.796875 8.0625 \nQ 21.484375 6.890625 26.703125 6.890625 \nQ 35.15625 6.890625 40.078125 11.328125 \nQ 45.015625 15.765625 45.015625 23.390625 \nQ 45.015625 31 40.078125 35.4375 \nQ 35.15625 39.890625 26.703125 39.890625 \nQ 22.75 39.890625 18.8125 39.015625 \nQ 14.890625 38.140625 10.796875 36.28125 \nz\n\" id=\"DejaVuSans-53\"/>\n      </defs>\n      <g transform=\"translate(80.762664 157.698438)scale(0.1 -0.1)\">\n       <use xlink:href=\"#DejaVuSans-53\"/>\n      </g>\n     </g>\n    </g>\n    <g id=\"xtick_2\">\n     <g id=\"line2d_3\">\n      <path clip-path=\"url(#pa3f9ae5e1e)\" d=\"M 135.338651 143.1 \nL 135.338651 7.2 \n\" style=\"fill:none;stroke:#b0b0b0;stroke-linecap:square;stroke-width:0.8;\"/>\n     </g>\n     <g id=\"line2d_4\">\n      <g>\n       <use style=\"stroke:#000000;stroke-width:0.8;\" x=\"135.338651\" xlink:href=\"#mad7f4651c2\" y=\"143.1\"/>\n      </g>\n     </g>\n     <g id=\"text_2\">\n      <!-- 10 -->\n      <defs>\n       <path d=\"M 12.40625 8.296875 \nL 28.515625 8.296875 \nL 28.515625 63.921875 \nL 10.984375 60.40625 \nL 10.984375 69.390625 \nL 28.421875 72.90625 \nL 38.28125 72.90625 \nL 38.28125 8.296875 \nL 54.390625 8.296875 \nL 54.390625 0 \nL 12.40625 0 \nz\n\" id=\"DejaVuSans-49\"/>\n       <path d=\"M 31.78125 66.40625 \nQ 24.171875 66.40625 20.328125 58.90625 \nQ 16.5 51.421875 16.5 36.375 \nQ 16.5 21.390625 20.328125 13.890625 \nQ 24.171875 6.390625 31.78125 6.390625 \nQ 39.453125 6.390625 43.28125 13.890625 \nQ 47.125 21.390625 47.125 36.375 \nQ 47.125 51.421875 43.28125 58.90625 \nQ 39.453125 66.40625 31.78125 66.40625 \nz\nM 31.78125 74.21875 \nQ 44.046875 74.21875 50.515625 64.515625 \nQ 56.984375 54.828125 56.984375 36.375 \nQ 56.984375 17.96875 50.515625 8.265625 \nQ 44.046875 -1.421875 31.78125 -1.421875 \nQ 19.53125 -1.421875 13.0625 8.265625 \nQ 6.59375 17.96875 6.59375 36.375 \nQ 6.59375 54.828125 13.0625 64.515625 \nQ 19.53125 74.21875 31.78125 74.21875 \nz\n\" id=\"DejaVuSans-48\"/>\n      </defs>\n      <g transform=\"translate(128.976151 157.698438)scale(0.1 -0.1)\">\n       <use xlink:href=\"#DejaVuSans-49\"/>\n       <use x=\"63.623047\" xlink:href=\"#DejaVuSans-48\"/>\n      </g>\n     </g>\n    </g>\n    <g id=\"xtick_3\">\n     <g id=\"line2d_5\">\n      <path clip-path=\"url(#pa3f9ae5e1e)\" d=\"M 186.733388 143.1 \nL 186.733388 7.2 \n\" style=\"fill:none;stroke:#b0b0b0;stroke-linecap:square;stroke-width:0.8;\"/>\n     </g>\n     <g id=\"line2d_6\">\n      <g>\n       <use style=\"stroke:#000000;stroke-width:0.8;\" x=\"186.733388\" xlink:href=\"#mad7f4651c2\" y=\"143.1\"/>\n      </g>\n     </g>\n     <g id=\"text_3\">\n      <!-- 15 -->\n      <g transform=\"translate(180.370888 157.698438)scale(0.1 -0.1)\">\n       <use xlink:href=\"#DejaVuSans-49\"/>\n       <use x=\"63.623047\" xlink:href=\"#DejaVuSans-53\"/>\n      </g>\n     </g>\n    </g>\n    <g id=\"xtick_4\">\n     <g id=\"line2d_7\">\n      <path clip-path=\"url(#pa3f9ae5e1e)\" d=\"M 238.128125 143.1 \nL 238.128125 7.2 \n\" style=\"fill:none;stroke:#b0b0b0;stroke-linecap:square;stroke-width:0.8;\"/>\n     </g>\n     <g id=\"line2d_8\">\n      <g>\n       <use style=\"stroke:#000000;stroke-width:0.8;\" x=\"238.128125\" xlink:href=\"#mad7f4651c2\" y=\"143.1\"/>\n      </g>\n     </g>\n     <g id=\"text_4\">\n      <!-- 20 -->\n      <defs>\n       <path d=\"M 19.1875 8.296875 \nL 53.609375 8.296875 \nL 53.609375 0 \nL 7.328125 0 \nL 7.328125 8.296875 \nQ 12.9375 14.109375 22.625 23.890625 \nQ 32.328125 33.6875 34.8125 36.53125 \nQ 39.546875 41.84375 41.421875 45.53125 \nQ 43.3125 49.21875 43.3125 52.78125 \nQ 43.3125 58.59375 39.234375 62.25 \nQ 35.15625 65.921875 28.609375 65.921875 \nQ 23.96875 65.921875 18.8125 64.3125 \nQ 13.671875 62.703125 7.8125 59.421875 \nL 7.8125 69.390625 \nQ 13.765625 71.78125 18.9375 73 \nQ 24.125 74.21875 28.421875 74.21875 \nQ 39.75 74.21875 46.484375 68.546875 \nQ 53.21875 62.890625 53.21875 53.421875 \nQ 53.21875 48.921875 51.53125 44.890625 \nQ 49.859375 40.875 45.40625 35.40625 \nQ 44.1875 33.984375 37.640625 27.21875 \nQ 31.109375 20.453125 19.1875 8.296875 \nz\n\" id=\"DejaVuSans-50\"/>\n      </defs>\n      <g transform=\"translate(231.765625 157.698438)scale(0.1 -0.1)\">\n       <use xlink:href=\"#DejaVuSans-50\"/>\n       <use x=\"63.623047\" xlink:href=\"#DejaVuSans-48\"/>\n      </g>\n     </g>\n    </g>\n    <g id=\"text_5\">\n     <!-- epoch -->\n     <defs>\n      <path d=\"M 56.203125 29.59375 \nL 56.203125 25.203125 \nL 14.890625 25.203125 \nQ 15.484375 15.921875 20.484375 11.0625 \nQ 25.484375 6.203125 34.421875 6.203125 \nQ 39.59375 6.203125 44.453125 7.46875 \nQ 49.3125 8.734375 54.109375 11.28125 \nL 54.109375 2.78125 \nQ 49.265625 0.734375 44.1875 -0.34375 \nQ 39.109375 -1.421875 33.890625 -1.421875 \nQ 20.796875 -1.421875 13.15625 6.1875 \nQ 5.515625 13.8125 5.515625 26.8125 \nQ 5.515625 40.234375 12.765625 48.109375 \nQ 20.015625 56 32.328125 56 \nQ 43.359375 56 49.78125 48.890625 \nQ 56.203125 41.796875 56.203125 29.59375 \nz\nM 47.21875 32.234375 \nQ 47.125 39.59375 43.09375 43.984375 \nQ 39.0625 48.390625 32.421875 48.390625 \nQ 24.90625 48.390625 20.390625 44.140625 \nQ 15.875 39.890625 15.1875 32.171875 \nz\n\" id=\"DejaVuSans-101\"/>\n      <path d=\"M 18.109375 8.203125 \nL 18.109375 -20.796875 \nL 9.078125 -20.796875 \nL 9.078125 54.6875 \nL 18.109375 54.6875 \nL 18.109375 46.390625 \nQ 20.953125 51.265625 25.265625 53.625 \nQ 29.59375 56 35.59375 56 \nQ 45.5625 56 51.78125 48.09375 \nQ 58.015625 40.1875 58.015625 27.296875 \nQ 58.015625 14.40625 51.78125 6.484375 \nQ 45.5625 -1.421875 35.59375 -1.421875 \nQ 29.59375 -1.421875 25.265625 0.953125 \nQ 20.953125 3.328125 18.109375 8.203125 \nz\nM 48.6875 27.296875 \nQ 48.6875 37.203125 44.609375 42.84375 \nQ 40.53125 48.484375 33.40625 48.484375 \nQ 26.265625 48.484375 22.1875 42.84375 \nQ 18.109375 37.203125 18.109375 27.296875 \nQ 18.109375 17.390625 22.1875 11.75 \nQ 26.265625 6.109375 33.40625 6.109375 \nQ 40.53125 6.109375 44.609375 11.75 \nQ 48.6875 17.390625 48.6875 27.296875 \nz\n\" id=\"DejaVuSans-112\"/>\n      <path d=\"M 30.609375 48.390625 \nQ 23.390625 48.390625 19.1875 42.75 \nQ 14.984375 37.109375 14.984375 27.296875 \nQ 14.984375 17.484375 19.15625 11.84375 \nQ 23.34375 6.203125 30.609375 6.203125 \nQ 37.796875 6.203125 41.984375 11.859375 \nQ 46.1875 17.53125 46.1875 27.296875 \nQ 46.1875 37.015625 41.984375 42.703125 \nQ 37.796875 48.390625 30.609375 48.390625 \nz\nM 30.609375 56 \nQ 42.328125 56 49.015625 48.375 \nQ 55.71875 40.765625 55.71875 27.296875 \nQ 55.71875 13.875 49.015625 6.21875 \nQ 42.328125 -1.421875 30.609375 -1.421875 \nQ 18.84375 -1.421875 12.171875 6.21875 \nQ 5.515625 13.875 5.515625 27.296875 \nQ 5.515625 40.765625 12.171875 48.375 \nQ 18.84375 56 30.609375 56 \nz\n\" id=\"DejaVuSans-111\"/>\n      <path d=\"M 48.78125 52.59375 \nL 48.78125 44.1875 \nQ 44.96875 46.296875 41.140625 47.34375 \nQ 37.3125 48.390625 33.40625 48.390625 \nQ 24.65625 48.390625 19.8125 42.84375 \nQ 14.984375 37.3125 14.984375 27.296875 \nQ 14.984375 17.28125 19.8125 11.734375 \nQ 24.65625 6.203125 33.40625 6.203125 \nQ 37.3125 6.203125 41.140625 7.25 \nQ 44.96875 8.296875 48.78125 10.40625 \nL 48.78125 2.09375 \nQ 45.015625 0.34375 40.984375 -0.53125 \nQ 36.96875 -1.421875 32.421875 -1.421875 \nQ 20.0625 -1.421875 12.78125 6.34375 \nQ 5.515625 14.109375 5.515625 27.296875 \nQ 5.515625 40.671875 12.859375 48.328125 \nQ 20.21875 56 33.015625 56 \nQ 37.15625 56 41.109375 55.140625 \nQ 45.0625 54.296875 48.78125 52.59375 \nz\n\" id=\"DejaVuSans-99\"/>\n      <path d=\"M 54.890625 33.015625 \nL 54.890625 0 \nL 45.90625 0 \nL 45.90625 32.71875 \nQ 45.90625 40.484375 42.875 44.328125 \nQ 39.84375 48.1875 33.796875 48.1875 \nQ 26.515625 48.1875 22.3125 43.546875 \nQ 18.109375 38.921875 18.109375 30.90625 \nL 18.109375 0 \nL 9.078125 0 \nL 9.078125 75.984375 \nL 18.109375 75.984375 \nL 18.109375 46.1875 \nQ 21.34375 51.125 25.703125 53.5625 \nQ 30.078125 56 35.796875 56 \nQ 45.21875 56 50.046875 50.171875 \nQ 54.890625 44.34375 54.890625 33.015625 \nz\n\" id=\"DejaVuSans-104\"/>\n     </defs>\n     <g transform=\"translate(125.25 171.376563)scale(0.1 -0.1)\">\n      <use xlink:href=\"#DejaVuSans-101\"/>\n      <use x=\"61.523438\" xlink:href=\"#DejaVuSans-112\"/>\n      <use x=\"125\" xlink:href=\"#DejaVuSans-111\"/>\n      <use x=\"186.181641\" xlink:href=\"#DejaVuSans-99\"/>\n      <use x=\"241.162109\" xlink:href=\"#DejaVuSans-104\"/>\n     </g>\n    </g>\n   </g>\n   <g id=\"matplotlib.axis_2\">\n    <g id=\"ytick_1\">\n     <g id=\"line2d_9\">\n      <path clip-path=\"url(#pa3f9ae5e1e)\" d=\"M 42.828125 108.366967 \nL 238.128125 108.366967 \n\" style=\"fill:none;stroke:#b0b0b0;stroke-linecap:square;stroke-width:0.8;\"/>\n     </g>\n     <g id=\"line2d_10\">\n      <defs>\n       <path d=\"M 0 0 \nL -3.5 0 \n\" id=\"m22c79f0e04\" style=\"stroke:#000000;stroke-width:0.8;\"/>\n      </defs>\n      <g>\n       <use style=\"stroke:#000000;stroke-width:0.8;\" x=\"42.828125\" xlink:href=\"#m22c79f0e04\" y=\"108.366967\"/>\n      </g>\n     </g>\n     <g id=\"text_6\">\n      <!-- 0.010 -->\n      <defs>\n       <path d=\"M 10.6875 12.40625 \nL 21 12.40625 \nL 21 0 \nL 10.6875 0 \nz\n\" id=\"DejaVuSans-46\"/>\n      </defs>\n      <g transform=\"translate(7.2 112.166186)scale(0.1 -0.1)\">\n       <use xlink:href=\"#DejaVuSans-48\"/>\n       <use x=\"63.623047\" xlink:href=\"#DejaVuSans-46\"/>\n       <use x=\"95.410156\" xlink:href=\"#DejaVuSans-48\"/>\n       <use x=\"159.033203\" xlink:href=\"#DejaVuSans-49\"/>\n       <use x=\"222.65625\" xlink:href=\"#DejaVuSans-48\"/>\n      </g>\n     </g>\n    </g>\n    <g id=\"ytick_2\">\n     <g id=\"line2d_11\">\n      <path clip-path=\"url(#pa3f9ae5e1e)\" d=\"M 42.828125 73.003553 \nL 238.128125 73.003553 \n\" style=\"fill:none;stroke:#b0b0b0;stroke-linecap:square;stroke-width:0.8;\"/>\n     </g>\n     <g id=\"line2d_12\">\n      <g>\n       <use style=\"stroke:#000000;stroke-width:0.8;\" x=\"42.828125\" xlink:href=\"#m22c79f0e04\" y=\"73.003553\"/>\n      </g>\n     </g>\n     <g id=\"text_7\">\n      <!-- 0.015 -->\n      <g transform=\"translate(7.2 76.802772)scale(0.1 -0.1)\">\n       <use xlink:href=\"#DejaVuSans-48\"/>\n       <use x=\"63.623047\" xlink:href=\"#DejaVuSans-46\"/>\n       <use x=\"95.410156\" xlink:href=\"#DejaVuSans-48\"/>\n       <use x=\"159.033203\" xlink:href=\"#DejaVuSans-49\"/>\n       <use x=\"222.65625\" xlink:href=\"#DejaVuSans-53\"/>\n      </g>\n     </g>\n    </g>\n    <g id=\"ytick_3\">\n     <g id=\"line2d_13\">\n      <path clip-path=\"url(#pa3f9ae5e1e)\" d=\"M 42.828125 37.64014 \nL 238.128125 37.64014 \n\" style=\"fill:none;stroke:#b0b0b0;stroke-linecap:square;stroke-width:0.8;\"/>\n     </g>\n     <g id=\"line2d_14\">\n      <g>\n       <use style=\"stroke:#000000;stroke-width:0.8;\" x=\"42.828125\" xlink:href=\"#m22c79f0e04\" y=\"37.64014\"/>\n      </g>\n     </g>\n     <g id=\"text_8\">\n      <!-- 0.020 -->\n      <g transform=\"translate(7.2 41.439358)scale(0.1 -0.1)\">\n       <use xlink:href=\"#DejaVuSans-48\"/>\n       <use x=\"63.623047\" xlink:href=\"#DejaVuSans-46\"/>\n       <use x=\"95.410156\" xlink:href=\"#DejaVuSans-48\"/>\n       <use x=\"159.033203\" xlink:href=\"#DejaVuSans-50\"/>\n       <use x=\"222.65625\" xlink:href=\"#DejaVuSans-48\"/>\n      </g>\n     </g>\n    </g>\n   </g>\n   <g id=\"line2d_15\">\n    <path clip-path=\"url(#pa3f9ae5e1e)\" d=\"M 42.828125 13.377273 \nL 53.107072 134.584527 \nL 63.38602 135.302623 \nL 73.664967 135.851979 \nL 83.943914 135.956014 \nL 94.222862 135.467556 \nL 104.501809 135.363521 \nL 114.780757 135.376209 \nL 125.059704 131.141218 \nL 135.338651 135.537336 \nL 145.617599 134.603558 \nL 155.896546 134.054201 \nL 166.175493 135.151645 \nL 176.454441 134.302871 \nL 186.733388 131.040989 \nL 197.012336 134.538853 \nL 207.291283 134.777372 \nL 217.57023 136.015644 \nL 227.849178 135.775856 \nL 238.128125 133.270132 \n\" style=\"fill:none;stroke:#1f77b4;stroke-linecap:square;stroke-width:1.5;\"/>\n   </g>\n   <g id=\"line2d_16\">\n    <path clip-path=\"url(#pa3f9ae5e1e)\" d=\"M 42.828125 56.425253 \nL 53.107072 134.46075 \nL 63.38602 135.249359 \nL 73.664967 135.448346 \nL 83.943914 135.516882 \nL 94.222862 135.6327 \nL 104.501809 135.967907 \nL 114.780757 133.821471 \nL 125.059704 127.276276 \nL 135.338651 135.991834 \nL 145.617599 133.885841 \nL 155.896546 130.822361 \nL 166.175493 132.830037 \nL 176.454441 135.478519 \nL 186.733388 130.279422 \nL 197.012336 134.898357 \nL 207.291283 127.226673 \nL 217.57023 132.084365 \nL 227.849178 136.922727 \nL 238.128125 130.412845 \n\" style=\"fill:none;stroke:#bf00bf;stroke-dasharray:5.55,2.4;stroke-dashoffset:0;stroke-width:1.5;\"/>\n   </g>\n   <g id=\"patch_3\">\n    <path d=\"M 42.828125 143.1 \nL 42.828125 7.2 \n\" style=\"fill:none;stroke:#000000;stroke-linecap:square;stroke-linejoin:miter;stroke-width:0.8;\"/>\n   </g>\n   <g id=\"patch_4\">\n    <path d=\"M 238.128125 143.1 \nL 238.128125 7.2 \n\" style=\"fill:none;stroke:#000000;stroke-linecap:square;stroke-linejoin:miter;stroke-width:0.8;\"/>\n   </g>\n   <g id=\"patch_5\">\n    <path d=\"M 42.828125 143.1 \nL 238.128125 143.1 \n\" style=\"fill:none;stroke:#000000;stroke-linecap:square;stroke-linejoin:miter;stroke-width:0.8;\"/>\n   </g>\n   <g id=\"patch_6\">\n    <path d=\"M 42.828125 7.2 \nL 238.128125 7.2 \n\" style=\"fill:none;stroke:#000000;stroke-linecap:square;stroke-linejoin:miter;stroke-width:0.8;\"/>\n   </g>\n   <g id=\"legend_1\">\n    <g id=\"patch_7\">\n     <path d=\"M 146.921875 44.55625 \nL 231.128125 44.55625 \nQ 233.128125 44.55625 233.128125 42.55625 \nL 233.128125 14.2 \nQ 233.128125 12.2 231.128125 12.2 \nL 146.921875 12.2 \nQ 144.921875 12.2 144.921875 14.2 \nL 144.921875 42.55625 \nQ 144.921875 44.55625 146.921875 44.55625 \nz\n\" style=\"fill:#ffffff;opacity:0.8;stroke:#cccccc;stroke-linejoin:miter;\"/>\n    </g>\n    <g id=\"line2d_17\">\n     <path d=\"M 148.921875 20.298437 \nL 168.921875 20.298437 \n\" style=\"fill:none;stroke:#1f77b4;stroke-linecap:square;stroke-width:1.5;\"/>\n    </g>\n    <g id=\"line2d_18\"/>\n    <g id=\"text_9\">\n     <!-- class error -->\n     <defs>\n      <path d=\"M 9.421875 75.984375 \nL 18.40625 75.984375 \nL 18.40625 0 \nL 9.421875 0 \nz\n\" id=\"DejaVuSans-108\"/>\n      <path d=\"M 34.28125 27.484375 \nQ 23.390625 27.484375 19.1875 25 \nQ 14.984375 22.515625 14.984375 16.5 \nQ 14.984375 11.71875 18.140625 8.90625 \nQ 21.296875 6.109375 26.703125 6.109375 \nQ 34.1875 6.109375 38.703125 11.40625 \nQ 43.21875 16.703125 43.21875 25.484375 \nL 43.21875 27.484375 \nz\nM 52.203125 31.203125 \nL 52.203125 0 \nL 43.21875 0 \nL 43.21875 8.296875 \nQ 40.140625 3.328125 35.546875 0.953125 \nQ 30.953125 -1.421875 24.3125 -1.421875 \nQ 15.921875 -1.421875 10.953125 3.296875 \nQ 6 8.015625 6 15.921875 \nQ 6 25.140625 12.171875 29.828125 \nQ 18.359375 34.515625 30.609375 34.515625 \nL 43.21875 34.515625 \nL 43.21875 35.40625 \nQ 43.21875 41.609375 39.140625 45 \nQ 35.0625 48.390625 27.6875 48.390625 \nQ 23 48.390625 18.546875 47.265625 \nQ 14.109375 46.140625 10.015625 43.890625 \nL 10.015625 52.203125 \nQ 14.9375 54.109375 19.578125 55.046875 \nQ 24.21875 56 28.609375 56 \nQ 40.484375 56 46.34375 49.84375 \nQ 52.203125 43.703125 52.203125 31.203125 \nz\n\" id=\"DejaVuSans-97\"/>\n      <path d=\"M 44.28125 53.078125 \nL 44.28125 44.578125 \nQ 40.484375 46.53125 36.375 47.5 \nQ 32.28125 48.484375 27.875 48.484375 \nQ 21.1875 48.484375 17.84375 46.4375 \nQ 14.5 44.390625 14.5 40.28125 \nQ 14.5 37.15625 16.890625 35.375 \nQ 19.28125 33.59375 26.515625 31.984375 \nL 29.59375 31.296875 \nQ 39.15625 29.25 43.1875 25.515625 \nQ 47.21875 21.78125 47.21875 15.09375 \nQ 47.21875 7.46875 41.1875 3.015625 \nQ 35.15625 -1.421875 24.609375 -1.421875 \nQ 20.21875 -1.421875 15.453125 -0.5625 \nQ 10.6875 0.296875 5.421875 2 \nL 5.421875 11.28125 \nQ 10.40625 8.6875 15.234375 7.390625 \nQ 20.0625 6.109375 24.8125 6.109375 \nQ 31.15625 6.109375 34.5625 8.28125 \nQ 37.984375 10.453125 37.984375 14.40625 \nQ 37.984375 18.0625 35.515625 20.015625 \nQ 33.0625 21.96875 24.703125 23.78125 \nL 21.578125 24.515625 \nQ 13.234375 26.265625 9.515625 29.90625 \nQ 5.8125 33.546875 5.8125 39.890625 \nQ 5.8125 47.609375 11.28125 51.796875 \nQ 16.75 56 26.8125 56 \nQ 31.78125 56 36.171875 55.265625 \nQ 40.578125 54.546875 44.28125 53.078125 \nz\n\" id=\"DejaVuSans-115\"/>\n      <path id=\"DejaVuSans-32\"/>\n      <path d=\"M 41.109375 46.296875 \nQ 39.59375 47.171875 37.8125 47.578125 \nQ 36.03125 48 33.890625 48 \nQ 26.265625 48 22.1875 43.046875 \nQ 18.109375 38.09375 18.109375 28.8125 \nL 18.109375 0 \nL 9.078125 0 \nL 9.078125 54.6875 \nL 18.109375 54.6875 \nL 18.109375 46.1875 \nQ 20.953125 51.171875 25.484375 53.578125 \nQ 30.03125 56 36.53125 56 \nQ 37.453125 56 38.578125 55.875 \nQ 39.703125 55.765625 41.0625 55.515625 \nz\n\" id=\"DejaVuSans-114\"/>\n     </defs>\n     <g transform=\"translate(176.921875 23.798437)scale(0.1 -0.1)\">\n      <use xlink:href=\"#DejaVuSans-99\"/>\n      <use x=\"54.980469\" xlink:href=\"#DejaVuSans-108\"/>\n      <use x=\"82.763672\" xlink:href=\"#DejaVuSans-97\"/>\n      <use x=\"144.042969\" xlink:href=\"#DejaVuSans-115\"/>\n      <use x=\"196.142578\" xlink:href=\"#DejaVuSans-115\"/>\n      <use x=\"248.242188\" xlink:href=\"#DejaVuSans-32\"/>\n      <use x=\"280.029297\" xlink:href=\"#DejaVuSans-101\"/>\n      <use x=\"341.552734\" xlink:href=\"#DejaVuSans-114\"/>\n      <use x=\"380.916016\" xlink:href=\"#DejaVuSans-114\"/>\n      <use x=\"419.779297\" xlink:href=\"#DejaVuSans-111\"/>\n      <use x=\"480.960938\" xlink:href=\"#DejaVuSans-114\"/>\n     </g>\n    </g>\n    <g id=\"line2d_19\">\n     <path d=\"M 148.921875 34.976562 \nL 168.921875 34.976562 \n\" style=\"fill:none;stroke:#bf00bf;stroke-dasharray:5.55,2.4;stroke-dashoffset:0;stroke-width:1.5;\"/>\n    </g>\n    <g id=\"line2d_20\"/>\n    <g id=\"text_10\">\n     <!-- bbox mae -->\n     <defs>\n      <path d=\"M 48.6875 27.296875 \nQ 48.6875 37.203125 44.609375 42.84375 \nQ 40.53125 48.484375 33.40625 48.484375 \nQ 26.265625 48.484375 22.1875 42.84375 \nQ 18.109375 37.203125 18.109375 27.296875 \nQ 18.109375 17.390625 22.1875 11.75 \nQ 26.265625 6.109375 33.40625 6.109375 \nQ 40.53125 6.109375 44.609375 11.75 \nQ 48.6875 17.390625 48.6875 27.296875 \nz\nM 18.109375 46.390625 \nQ 20.953125 51.265625 25.265625 53.625 \nQ 29.59375 56 35.59375 56 \nQ 45.5625 56 51.78125 48.09375 \nQ 58.015625 40.1875 58.015625 27.296875 \nQ 58.015625 14.40625 51.78125 6.484375 \nQ 45.5625 -1.421875 35.59375 -1.421875 \nQ 29.59375 -1.421875 25.265625 0.953125 \nQ 20.953125 3.328125 18.109375 8.203125 \nL 18.109375 0 \nL 9.078125 0 \nL 9.078125 75.984375 \nL 18.109375 75.984375 \nz\n\" id=\"DejaVuSans-98\"/>\n      <path d=\"M 54.890625 54.6875 \nL 35.109375 28.078125 \nL 55.90625 0 \nL 45.3125 0 \nL 29.390625 21.484375 \nL 13.484375 0 \nL 2.875 0 \nL 24.125 28.609375 \nL 4.6875 54.6875 \nL 15.28125 54.6875 \nL 29.78125 35.203125 \nL 44.28125 54.6875 \nz\n\" id=\"DejaVuSans-120\"/>\n      <path d=\"M 52 44.1875 \nQ 55.375 50.25 60.0625 53.125 \nQ 64.75 56 71.09375 56 \nQ 79.640625 56 84.28125 50.015625 \nQ 88.921875 44.046875 88.921875 33.015625 \nL 88.921875 0 \nL 79.890625 0 \nL 79.890625 32.71875 \nQ 79.890625 40.578125 77.09375 44.375 \nQ 74.3125 48.1875 68.609375 48.1875 \nQ 61.625 48.1875 57.5625 43.546875 \nQ 53.515625 38.921875 53.515625 30.90625 \nL 53.515625 0 \nL 44.484375 0 \nL 44.484375 32.71875 \nQ 44.484375 40.625 41.703125 44.40625 \nQ 38.921875 48.1875 33.109375 48.1875 \nQ 26.21875 48.1875 22.15625 43.53125 \nQ 18.109375 38.875 18.109375 30.90625 \nL 18.109375 0 \nL 9.078125 0 \nL 9.078125 54.6875 \nL 18.109375 54.6875 \nL 18.109375 46.1875 \nQ 21.1875 51.21875 25.484375 53.609375 \nQ 29.78125 56 35.6875 56 \nQ 41.65625 56 45.828125 52.96875 \nQ 50 49.953125 52 44.1875 \nz\n\" id=\"DejaVuSans-109\"/>\n     </defs>\n     <g transform=\"translate(176.921875 38.476562)scale(0.1 -0.1)\">\n      <use xlink:href=\"#DejaVuSans-98\"/>\n      <use x=\"63.476562\" xlink:href=\"#DejaVuSans-98\"/>\n      <use x=\"126.953125\" xlink:href=\"#DejaVuSans-111\"/>\n      <use x=\"185.009766\" xlink:href=\"#DejaVuSans-120\"/>\n      <use x=\"244.189453\" xlink:href=\"#DejaVuSans-32\"/>\n      <use x=\"275.976562\" xlink:href=\"#DejaVuSans-109\"/>\n      <use x=\"373.388672\" xlink:href=\"#DejaVuSans-97\"/>\n      <use x=\"434.667969\" xlink:href=\"#DejaVuSans-101\"/>\n     </g>\n    </g>\n   </g>\n  </g>\n </g>\n <defs>\n  <clipPath id=\"pa3f9ae5e1e\">\n   <rect height=\"135.9\" width=\"195.3\" x=\"42.828125\" y=\"7.2\"/>\n  </clipPath>\n </defs>\n</svg>\n"
          },
          "metadata": {
            "tags": [],
            "needs_background": "light"
          }
        }
      ]
    }
  ]
}